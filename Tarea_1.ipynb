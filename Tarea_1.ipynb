{
 "cells": [
  {
   "cell_type": "code",
   "execution_count": 12,
   "metadata": {},
   "outputs": [
    {
     "name": "stdout",
     "output_type": "stream",
     "text": [
      "[66, 30.5]\n"
     ]
    }
   ],
   "source": [
    "def refugios(x):\n",
    "    mayor = -1000\n",
    "    for i in x:\n",
    "        if i > mayor:\n",
    "            mayor = i\n",
    "    suma = 0\n",
    "    for n in x:\n",
    "        suma = suma + n\n",
    "    promedio = suma / len(x) \n",
    "    mylist = []\n",
    "    mylist.append(mayor)\n",
    "    mylist.append(promedio)\n",
    "    print (mylist)\n",
    "    \n",
    "    \n",
    "lista=[12,45,66,43,12,5]\n",
    "lista2=[9,8,7,0]\n",
    "\n",
    "refugios(lista)\n",
    "        \n",
    "        "
   ]
  },
  {
   "cell_type": "code",
   "execution_count": 33,
   "metadata": {},
   "outputs": [
    {
     "name": "stdout",
     "output_type": "stream",
     "text": [
      "qefa\n",
      "afeq\n"
     ]
    }
   ],
   "source": [
    "def letras(x):\n",
    "    \n",
    "    iconos = \"\"\n",
    "    for i in x:\n",
    "        iconos = iconos + i\n",
    "    print (iconos)\n",
    "    \n",
    "    \n",
    "    iconos2= \"\"\n",
    "    for i in x:\n",
    "        iconos2 = i + iconos2\n",
    "    print(iconos2)\n",
    "    \n",
    "        \n",
    "lista=[\"q\",\"e\",\"f\",\"a\"]    \n",
    "\n",
    "letras(lista)"
   ]
  },
  {
   "cell_type": "code",
   "execution_count": 14,
   "metadata": {},
   "outputs": [
    {
     "data": {
      "text/plain": [
       "[1, 3, 5, 7, 9, 11, 13, 15]"
      ]
     },
     "execution_count": 14,
     "metadata": {},
     "output_type": "execute_result"
    }
   ],
   "source": [
    "def rango(n):\n",
    "    lista = []\n",
    "    for i in range(0,n+1):\n",
    "        if i%2 == 1:\n",
    "            lista.append(i)\n",
    "    return lista\n",
    "\n",
    "rango(15)"
   ]
  },
  {
   "cell_type": "code",
   "execution_count": 26,
   "metadata": {},
   "outputs": [
    {
     "name": "stdout",
     "output_type": "stream",
     "text": [
      "['d', 'c', 'b', 'a']\n"
     ]
    }
   ],
   "source": [
    "lista=[\"a\",\"b\",\"c\",\"d\"]\n",
    "lista.reverse()\n",
    "print (lista)"
   ]
  },
  {
   "cell_type": "code",
   "execution_count": 27,
   "metadata": {},
   "outputs": [
    {
     "name": "stdout",
     "output_type": "stream",
     "text": [
      "['d', 'c', 'b', 'a']\n"
     ]
    }
   ],
   "source": [
    "lista=[\"a\",\"b\",\"c\",\"d\"]\n",
    "lista.reverse()\n",
    "print (lista)"
   ]
  },
  {
   "cell_type": "code",
   "execution_count": 36,
   "metadata": {},
   "outputs": [
    {
     "name": "stdout",
     "output_type": "stream",
     "text": [
      "0\n",
      "1\n",
      "2\n",
      "3\n",
      "4\n",
      "5\n",
      "6\n",
      "7\n",
      "8\n",
      "9\n"
     ]
    }
   ],
   "source": [
    "for i in range(0,10,1):\n",
    "    if \n",
    "    print (i)"
   ]
  },
  {
   "cell_type": "code",
   "execution_count": 5,
   "metadata": {},
   "outputs": [
    {
     "data": {
      "text/plain": [
       "1"
      ]
     },
     "execution_count": 5,
     "metadata": {},
     "output_type": "execute_result"
    }
   ],
   "source": [
    "5%2"
   ]
  },
  {
   "cell_type": "code",
   "execution_count": null,
   "metadata": {},
   "outputs": [],
   "source": []
  }
 ],
 "metadata": {
  "kernelspec": {
   "display_name": "Python 3",
   "language": "python",
   "name": "python3"
  },
  "language_info": {
   "codemirror_mode": {
    "name": "ipython",
    "version": 3
   },
   "file_extension": ".py",
   "mimetype": "text/x-python",
   "name": "python",
   "nbconvert_exporter": "python",
   "pygments_lexer": "ipython3",
   "version": "3.6.5"
  }
 },
 "nbformat": 4,
 "nbformat_minor": 2
}
